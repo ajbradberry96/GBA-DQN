{
 "cells": [
  {
   "cell_type": "code",
   "execution_count": null,
   "metadata": {},
   "outputs": [
    {
     "name": "stdout",
     "output_type": "stream",
     "text": [
      "Server started. Listening on port  36296\n",
      "Got connection from ('127.0.0.1', 51081)\n",
      "Connected to GBA.\n",
      "Number of frames per stack:  4\n"
     ]
    }
   ],
   "source": [
    "import socket               # Import socket module\n",
    "import matplotlib.pyplot as plt\n",
    "import matplotlib.image as mpimg\n",
    "import numpy as np\n",
    "import queue\n",
    "%matplotlib inline\n",
    "\n",
    "s = socket.socket()         # Create a socket object\n",
    "host = 'localhost'          # Get local machine name\n",
    "port = 36296                # Reserve a port for your service.\n",
    "s.bind((host, port))        # Bind to the port\n",
    "RECV_BUFFER = 4096          # Advisable to keep it as an exponent of 2\n",
    "\n",
    "print(\"Server started. Listening on port \", port)\n",
    "s.listen(5)                 # Now wait for client connection.\n",
    "\n",
    "while True:\n",
    "    c, addr = s.accept()     # Establish connection with client.\n",
    "    print('Got connection from', addr)\n",
    "    print(c.recv(RECV_BUFFER).decode('utf-8'))\n",
    "    c.send(bytes('Connected to Python.\\n','utf-8'))\n",
    "    \n",
    "    # Get the number of frames in a stack\n",
    "    num_frames = int(c.recv(RECV_BUFFER).decode('utf-8'))\n",
    "    print(\"Number of frames per stack: \", num_frames)\n",
    "    frame_stack = queue.Queue(maxsize=num_frames)\n",
    "    \n",
    "    while True:\n",
    "        data = c.recv(RECV_BUFFER)\n",
    "        \n",
    "        if data.decode('utf-8') == \"State captured.\":\n",
    "            try:\n",
    "                # First, grab frames\n",
    "                for i in range(num_frames):\n",
    "                    frame_stack.put(mpimg.imread('../States/frame' + str(i + 1) + '.png'))\n",
    "                    while not frame_stack.empty():\n",
    "                        frame_stack.get()\n",
    "                        #plt.imshow(frame_stack.get())\n",
    "                        #plt.show()\n",
    "                c.send(bytes('Frames received.','utf-8'))\n",
    "                \n",
    "                # Next, recv score\n",
    "                #score = int(c.recv(RECV_BUFFER).decode('utf-8'))\n",
    "                #c.send(bytes(\"Score Received.\\n\", 'utf-8'))\n",
    "                \n",
    "                # Next, recv game_over\n",
    "                #game_over = bool(c.recv(RECV_BUFFER).decode('utf-8'))\n",
    "                #c.send(bytes(\"Score Received.\\n\", 'utf-8'))\n",
    "            except Exception as e:\n",
    "                print(e)\n",
    "                continue\n",
    "            \n",
    "        if data.decode('utf-8') == 'exit':\n",
    "            print(\"Closing connection...\")\n",
    "            break\n",
    "    c.close() # Close the connection"
   ]
  },
  {
   "cell_type": "code",
   "execution_count": 1,
   "metadata": {},
   "outputs": [
    {
     "name": "stdout",
     "output_type": "stream",
     "text": [
      "Server started. Listening on port  36296\n"
     ]
    }
   ],
   "source": [
    "import socket               # Import socket module\n",
    "import matplotlib.pyplot as plt\n",
    "import matplotlib.image as mpimg\n",
    "import numpy as np\n",
    "import queue\n",
    "%matplotlib inline\n",
    "\n",
    "s = socket.socket()         # Create a socket object\n",
    "host = 'localhost'          # Get local machine name\n",
    "port = 36296                # Reserve a port for your service.\n",
    "s.bind((host, port))        # Bind to the port\n",
    "RECV_BUFFER = 4096          # Advisable to keep it as an exponent of 2\n",
    "\n",
    "print(\"Server started. Listening on port \", port)\n",
    "s.listen(5)   "
   ]
  },
  {
   "cell_type": "code",
   "execution_count": 10,
   "metadata": {},
   "outputs": [],
   "source": [
    "import subprocess\n",
    "\n",
    "biz_cli = subprocess.Popen(['../Emulation/EmuHawk.exe', \n",
    "                  '--lua=../Emulation/dqn_client.lua', \n",
    "                  '../Emulation/ROMS/SMA4.gba'])"
   ]
  },
  {
   "cell_type": "code",
   "execution_count": 11,
   "metadata": {},
   "outputs": [],
   "source": [
    "biz_cli.terminate()"
   ]
  },
  {
   "cell_type": "code",
   "execution_count": 12,
   "metadata": {},
   "outputs": [],
   "source": [
    "s.close()"
   ]
  },
  {
   "cell_type": "code",
   "execution_count": null,
   "metadata": {},
   "outputs": [],
   "source": []
  }
 ],
 "metadata": {
  "kernelspec": {
   "display_name": "Python 3",
   "language": "python",
   "name": "python3"
  },
  "language_info": {
   "codemirror_mode": {
    "name": "ipython",
    "version": 3
   },
   "file_extension": ".py",
   "mimetype": "text/x-python",
   "name": "python",
   "nbconvert_exporter": "python",
   "pygments_lexer": "ipython3",
   "version": "3.7.1"
  }
 },
 "nbformat": 4,
 "nbformat_minor": 2
}
